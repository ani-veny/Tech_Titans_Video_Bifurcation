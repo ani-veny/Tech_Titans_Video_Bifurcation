{
 "cells": [
  {
   "cell_type": "code",
   "execution_count": 3,
   "id": "c0fd5489",
   "metadata": {},
   "outputs": [
    {
     "name": "stdout",
     "output_type": "stream",
     "text": [
      "(BB Session 5 - Sprint MERN-1Nov- X =\n",
      "\n",
      "CO — &@ docsgoogle.com/presentation/d/190kdG7ut-s3fcPvwOnVBuWzsQUO3fWCCIUbwEpoNgC0/edit#slide=id.gfa895f6c93_0_9\n",
      "\n",
      "Apps %& Bookmarks | Development [| Design J Resuminator [| Crio i Gmail [fB) Google Calendar © Linear-R8 @ YouTubeMusic (®) Poetso| Create Bea...\n",
      "\n",
      "By default,\n",
      "useEffect() runs\n",
      "For the initial render\n",
      "and all re-renders\n",
      "\n",
      "(~ componentDidMount + componentDidUpdate)\n",
      "\n",
      "P Type here to search oH vv BB BS 9 ®\n",
      "\n",
      "A 29°C Hae A 2 G0)\n",
      "\n",
      "ENG\n",
      "\n",
      "08:47 PM\n",
      "18-11-2021\n",
      "\n"
     ]
    }
   ],
   "source": [
    "from PIL import Image\n",
    "from pytesseract import pytesseract\n",
    "  \n",
    "# Defining paths to tesseract.exe\n",
    "# and the image we would be using\n",
    "path_to_tesseract = r\"C:\\Program Files\\Tesseract-OCR\\tesseract.exe\"\n",
    "image_path = r\".\\frames\\frame-5319.png\"\n",
    "#image_path = r\".\\frames\\frame-5372.png\"\n",
    "  \n",
    "# Opening the image & storing it in an image object\n",
    "img = Image.open(image_path)\n",
    "  \n",
    "# Providing the tesseract executable\n",
    "# location to pytesseract library\n",
    "pytesseract.tesseract_cmd = path_to_tesseract\n",
    "  \n",
    "# Passing the image object to image_to_string() function\n",
    "# This function will extract the text from the image\n",
    "text = pytesseract.image_to_string(img)\n",
    "  \n",
    "# Displaying the extracted text\n",
    "print(text[:-1])"
   ]
  },
  {
   "cell_type": "code",
   "execution_count": null,
   "id": "dbf3b8ed",
   "metadata": {},
   "outputs": [],
   "source": []
  }
 ],
 "metadata": {
  "kernelspec": {
   "display_name": "Python 3 (ipykernel)",
   "language": "python",
   "name": "python3"
  },
  "language_info": {
   "codemirror_mode": {
    "name": "ipython",
    "version": 3
   },
   "file_extension": ".py",
   "mimetype": "text/x-python",
   "name": "python",
   "nbconvert_exporter": "python",
   "pygments_lexer": "ipython3",
   "version": "3.10.9"
  }
 },
 "nbformat": 4,
 "nbformat_minor": 5
}
