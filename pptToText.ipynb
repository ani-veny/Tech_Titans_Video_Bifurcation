{
 "cells": [
  {
   "cell_type": "code",
   "execution_count": 8,
   "id": "e4e93227",
   "metadata": {
    "scrolled": true
   },
   "outputs": [
    {
     "name": "stdout",
     "output_type": "stream",
     "text": [
      "while (folksAreJoining() === true)\n",
      "Session 5: MERN-1 Nov\n",
      "In this session\n",
      "Lists and Keys\n",
      "Activity 1.1: Rendering multiple similar elements\n",
      "Activity 1.2: Rendering multiple similar elements\n",
      "Activity 1.3: Rendering multiple similar elements\n",
      "Curious Cats\n",
      "Activity 2.1: Shuffling checkboxes\n",
      "Activity 2.2: Resolving list shuffle issue\n",
      "Activity 2.3: Resolving list shuffle issue\n",
      "Takeaways: Lists and Keys\n",
      "Interview questions\n",
      "Side effects with Hooks\n",
      "Performing side effects\n",
      "Two types of effects\n",
      "Side effects - not needing cleanup\n",
      "By default, useEffect runs for the initial render and all re-renders\n",
      "Activity: Display email for any user\n",
      "Skipping Effects\n",
      "Activity: Try this out!\n",
      "useEffect - cleaning up resources\n",
      "Can think of useEffect() as componentDidMount(), componentDidUpdate(), and componentWillUnmount() combined\n",
      "Activity: Dog Pics (from Takehome 2) with Hooks\n",
      "Issue 2: Logic spread across different lifecycle methods\n",
      "2. Related logic separated\n",
      "Issues with Class components\n",
      "Takeaways: Side effects with Hooks\n",
      "Until next session \n",
      "Thank you\n"
     ]
    }
   ],
   "source": [
    "from pptx import Presentation\n",
    "\n",
    "def contains_non_ascii(sentence):\n",
    "    for char in sentence:\n",
    "        if ord(char) > 127:\n",
    "            return True\n",
    "    return False\n",
    "\n",
    "def remove_ascii(sentence):\n",
    "    non_ascii_chars = [char for char in sentence if ord(char) <= 127]\n",
    "    non_ascii_sentence = ''.join(non_ascii_chars)\n",
    "    return non_ascii_sentence\n",
    "\n",
    "def has_multiple_lines(sentence):\n",
    "    return '\\n' in sentence\n",
    "\n",
    "def get_first_line(sentence):\n",
    "    lines = sentence.split('\\n')\n",
    "    return lines[0]\n",
    "\n",
    "filename = \"input.pptx\"\n",
    "file_path = \"headings.txt\"\n",
    "\n",
    "prs = Presentation(filename)\n",
    "\n",
    "for slide in prs.slides:\n",
    "    title = slide.shapes.title.text\n",
    "    \n",
    "    if has_multiple_lines(title):\n",
    "        title=get_first_line(title)\n",
    "    \n",
    "    with open(file_path, 'a') as file:\n",
    "        if contains_non_ascii(title):\n",
    "            title = remove_ascii(title)\n",
    "            print(title)\n",
    "      #  with open(file_path, 'w') as file:\n",
    "            file.write(title+'\\n')\n",
    "        #print(\"The sentence contains non-ASCII characters.\")\n",
    "        else:\n",
    "      #  with open(file_path, 'w') as file:\n",
    "            file.write(title+'\\n')\n",
    "            print(title)\n",
    "        #print(\"The sentence only contains ASCII characters.\")"
   ]
  },
  {
   "cell_type": "code",
   "execution_count": null,
   "id": "58ad8850",
   "metadata": {},
   "outputs": [],
   "source": []
  }
 ],
 "metadata": {
  "kernelspec": {
   "display_name": "Python 3 (ipykernel)",
   "language": "python",
   "name": "python3"
  },
  "language_info": {
   "codemirror_mode": {
    "name": "ipython",
    "version": 3
   },
   "file_extension": ".py",
   "mimetype": "text/x-python",
   "name": "python",
   "nbconvert_exporter": "python",
   "pygments_lexer": "ipython3",
   "version": "3.10.9"
  }
 },
 "nbformat": 4,
 "nbformat_minor": 5
}
